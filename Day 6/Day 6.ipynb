{
 "cells": [
  {
   "cell_type": "code",
   "execution_count": 1,
   "id": "a714c7a2",
   "metadata": {},
   "outputs": [],
   "source": [
    "import pandas as pd\n",
    "import numpy as np"
   ]
  },
  {
   "cell_type": "code",
   "execution_count": 14,
   "id": "afa58cf7",
   "metadata": {},
   "outputs": [
    {
     "name": "stdout",
     "output_type": "stream",
     "text": [
      "1.3333333333333333\n"
     ]
    }
   ],
   "source": [
    "\"\"\"\n",
    "Imagine you have a model with Forecast & Observation \n",
    "Find MSE:\n",
    "\n",
    "\"\"\"\n",
    "\n",
    "\n",
    "O=[7,5,2,0,1,8]\n",
    "F=[6,5,0,-1,0,7]\n",
    "sum=0\n",
    "\n",
    "for i in range(len(O)):\n",
    "    sum= sum+ (F[i]- O[i])**2\n",
    "MSE=sum/len(O)\n",
    "print(MSE)\n",
    "\n",
    "\n"
   ]
  },
  {
   "cell_type": "code",
   "execution_count": null,
   "id": "d11e581f",
   "metadata": {},
   "outputs": [],
   "source": []
  },
  {
   "cell_type": "code",
   "execution_count": null,
   "id": "7fdc3449",
   "metadata": {},
   "outputs": [],
   "source": []
  }
 ],
 "metadata": {
  "kernelspec": {
   "display_name": "Python 3 (ipykernel)",
   "language": "python",
   "name": "python3"
  },
  "language_info": {
   "codemirror_mode": {
    "name": "ipython",
    "version": 3
   },
   "file_extension": ".py",
   "mimetype": "text/x-python",
   "name": "python",
   "nbconvert_exporter": "python",
   "pygments_lexer": "ipython3",
   "version": "3.9.13"
  }
 },
 "nbformat": 4,
 "nbformat_minor": 5
}
